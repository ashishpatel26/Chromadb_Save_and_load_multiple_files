{
 "cells": [
  {
   "cell_type": "code",
   "execution_count": null,
   "metadata": {},
   "outputs": [],
   "source": [
    "# !pip install chromadb\n",
    "!pip install langchain_chroma -U"
   ]
  },
  {
   "cell_type": "code",
   "execution_count": 5,
   "metadata": {},
   "outputs": [],
   "source": [
    "import chromadb\n",
    "from chromadb.config import Settings\n",
    "from langchain_community.document_loaders import TextLoader\n",
    "from langchain.text_splitter import RecursiveCharacterTextSplitter\n",
    "from langchain_community.embeddings import HuggingFaceEmbeddings\n",
    "from langchain_chroma import Chroma"
   ]
  },
  {
   "cell_type": "code",
   "execution_count": null,
   "metadata": {},
   "outputs": [],
   "source": [
    "doc = TextLoader(\"./demo.txt\").load()\n",
    "documents = RecursiveCharacterTextSplitter(chunk_size = 1000, chunk_overlap=200).split_documents(doc)\n",
    "chroma_client = chromadb.Client(Settings(persist_directory=\"db/\"))\n",
    "embeddings = HuggingFaceEmbeddings(model_name=\"all-MiniLM-L6-v2\")"
   ]
  },
  {
   "cell_type": "code",
   "execution_count": null,
   "metadata": {},
   "outputs": [],
   "source": [
    "collection = chroma_client.create_collection(name=\"techspec\")"
   ]
  },
  {
   "cell_type": "code",
   "execution_count": null,
   "metadata": {},
   "outputs": [],
   "source": [
    "doc[0].metadata"
   ]
  },
  {
   "cell_type": "code",
   "execution_count": null,
   "metadata": {},
   "outputs": [],
   "source": [
    "\n",
    "collection.add(\n",
    "    documents = [doc[0].page_content],\n",
    "    metadatas=[{\"sources\": str(doc[0].metadata)}],\n",
    "    ids = [\"id1\"]\n",
    ")\n",
    "persist_directory = 'chroma_storage3'\n",
    "# tell LangChain to use our client and collection name\n",
    "db4 = Chroma(\n",
    "    persist_directory = persist_directory,\n",
    "    client=chroma_client,\n",
    "    collection_name=collection.name,\n",
    "    embedding_function=embeddings,\n",
    ")"
   ]
  },
  {
   "cell_type": "code",
   "execution_count": null,
   "metadata": {},
   "outputs": [],
   "source": [
    "db4._persist_directory\n"
   ]
  },
  {
   "cell_type": "code",
   "execution_count": null,
   "metadata": {},
   "outputs": [],
   "source": [
    "import os\n",
    "os.getcwd()"
   ]
  },
  {
   "cell_type": "code",
   "execution_count": null,
   "metadata": {},
   "outputs": [],
   "source": [
    "vector_db = Chroma(persist_directory=\"./chroma_storage3\", embedding_function=embeddings)"
   ]
  },
  {
   "cell_type": "code",
   "execution_count": null,
   "metadata": {},
   "outputs": [],
   "source": [
    "vector_db.similarity_search(\"who is doing war?\")"
   ]
  },
  {
   "cell_type": "code",
   "execution_count": null,
   "metadata": {},
   "outputs": [],
   "source": [
    "db4.similarity_search(\"who is doing war?\")"
   ]
  },
  {
   "cell_type": "code",
   "execution_count": null,
   "metadata": {},
   "outputs": [],
   "source": [
    "db4._persist_directory"
   ]
  },
  {
   "cell_type": "code",
   "execution_count": null,
   "metadata": {},
   "outputs": [],
   "source": [
    "db4.delete_collection()"
   ]
  },
  {
   "cell_type": "code",
   "execution_count": 7,
   "metadata": {},
   "outputs": [],
   "source": [
    "import os"
   ]
  },
  {
   "cell_type": "code",
   "execution_count": 8,
   "metadata": {},
   "outputs": [],
   "source": [
    "import glob\n",
    "files = glob.glob(\"*.txt\")"
   ]
  },
  {
   "cell_type": "code",
   "execution_count": 9,
   "metadata": {},
   "outputs": [],
   "source": [
    "import os\n",
    "\n",
    "for idx, file in enumerate(files):\n",
    "    filepath = os.path.join(f'C:\\\\Users\\\\ibm26\\\\Downloads\\\\lmstudio\\\\', file)\n",
    "    loader_doc = TextLoader(filepath).load()\n",
    "    split_doc = RecursiveCharacterTextSplitter(chunk_size = 1000, chunk_overlap=200).split_documents(loader_doc)\n"
   ]
  },
  {
   "cell_type": "code",
   "execution_count": 10,
   "metadata": {},
   "outputs": [
    {
     "name": "stderr",
     "output_type": "stream",
     "text": [
      "Add of existing embedding ID: id_1\n",
      "Add of existing embedding ID: id_1\n",
      "Add of existing embedding ID: id_1\n",
      "Add of existing embedding ID: id_1\n",
      "Add of existing embedding ID: id_1\n",
      "Insert of existing embedding ID: id_1\n",
      "Add of existing embedding ID: id_1\n",
      "Insert of existing embedding ID: id_1\n",
      "Add of existing embedding ID: id_1\n"
     ]
    },
    {
     "name": "stdout",
     "output_type": "stream",
     "text": [
      "Added documents from ./demo.txt to ChromaDB.\n",
      "Added documents from ./demo3.txt to ChromaDB.\n",
      "All documents have been added and Chroma Vector Database is ready for use.\n"
     ]
    }
   ],
   "source": [
    "# !pip install chromadb\n",
    "# !pip install langchain_chroma -U\n",
    "\n",
    "import os\n",
    "import chromadb\n",
    "from chromadb.config import Settings\n",
    "from langchain_community.document_loaders import TextLoader\n",
    "from langchain.text_splitter import RecursiveCharacterTextSplitter\n",
    "from langchain_community.embeddings import HuggingFaceEmbeddings\n",
    "from langchain_chroma import Chroma\n",
    "\n",
    "# List of document file paths\n",
    "document_files = [\"./demo.txt\", \"./domo2.txt\", \"./demo3.txt\"]  # Add paths to your documents\n",
    "\n",
    "# Initialize and configure Chroma\n",
    "persist_directory = 'chroma_storage_new'\n",
    "# Initialize ChromaDB Client and collection\n",
    "chroma_client = chromadb.PersistentClient(path=persist_directory, settings=Settings(anonymized_telemetry=False))\n",
    "embeddings = HuggingFaceEmbeddings(model_name=\"all-MiniLM-L6-v2\")\n",
    "collection = chroma_client.get_or_create_collection(name=\"techspecnew4\")\n",
    "# Initialize Text Splitter\n",
    "splitter = RecursiveCharacterTextSplitter(chunk_size=1000, chunk_overlap=200)\n",
    "\n",
    "# Process each document\n",
    "for doc_path in document_files:\n",
    "    if os.path.exists(doc_path):\n",
    "        doc = TextLoader(doc_path).load()\n",
    "        documents = splitter.split_documents(doc)\n",
    "\n",
    "        # Prepare data for adding to ChromaDB\n",
    "        pages_content = [doc.page_content for doc in documents]\n",
    "        metadatas = [{\"source\": str(doc.metadata)} for doc in documents]\n",
    "        ids = [f\"id_{i+1}\" for i in range(len(documents))]\n",
    "\n",
    "        # Add documents to the ChromaDB collection\n",
    "        collection.add(documents=pages_content, metadatas=metadatas, ids=ids)\n",
    "\n",
    "        print(f\"Added documents from {doc_path} to ChromaDB.\")\n",
    "\n",
    "\n",
    "db4 = Chroma(\n",
    "    persist_directory=persist_directory,\n",
    "    client=chroma_client,\n",
    "    collection_name=collection.name,\n",
    "    embedding_function=embeddings,\n",
    ")\n",
    "\n",
    "print(\"All documents have been added and Chroma Vector Database is ready for use.\")"
   ]
  },
  {
   "cell_type": "code",
   "execution_count": null,
   "metadata": {},
   "outputs": [],
   "source": [
    "db4.delete_collection()"
   ]
  },
  {
   "cell_type": "code",
   "execution_count": 12,
   "metadata": {},
   "outputs": [
    {
     "name": "stdout",
     "output_type": "stream",
     "text": [
      "Chroma has been configured to load data from the specified persist directory.\n"
     ]
    }
   ],
   "source": [
    "import chromadb\n",
    "from langchain_chroma import Chroma\n",
    "from langchain_community.embeddings import HuggingFaceEmbeddings\n",
    "from chromadb.config import Settings\n",
    "\n",
    "# Define the directory where the data was persisted\n",
    "persist_directory = 'chroma_storage_new'\n",
    "\n",
    "# Initialize ChromaDB Client\n",
    "chroma_client = chromadb.PersistentClient()\n",
    "\n",
    "collection = chroma_client.get_or_create_collection(\"techspec\")\n",
    "\n",
    "# Setup embedding function, same as used during saving the data\n",
    "embeddings = HuggingFaceEmbeddings(model_name=\"all-MiniLM-L6-v2\")\n",
    "\n",
    "# Initialize and configure Chroma to load the existing data\n",
    "db4 = Chroma(\n",
    "    persist_directory=persist_directory,\n",
    "    client=chroma_client,\n",
    "    collection_name=collection.name,\n",
    "    embedding_function=embeddings,\n",
    ")\n",
    "\n",
    "print(\"Chroma has been configured to load data from the specified persist directory.\")\n"
   ]
  },
  {
   "cell_type": "code",
   "execution_count": 13,
   "metadata": {},
   "outputs": [
    {
     "name": "stderr",
     "output_type": "stream",
     "text": [
      "Number of requested results 4 is greater than number of elements in index 1, updating n_results = 1\n"
     ]
    },
    {
     "data": {
      "text/plain": [
       "[Document(page_content='On 24 February 2022, Russia invaded Ukraine in an escalation of the Russo-Ukrainian War that started in 2014. The invasion became the largest attack on a European country since World War II.[12][13][14] It is estimated to have caused tens of thousands of Ukrainian civilian casualties and hundreds of thousands of military casualties. By June 2022, Russian troops occupied about 20% of Ukrainian territory. From a population of 41 million in January 2022, about 8 million Ukrainians had been internally displaced and more than 8.2 million had fled the country by April 2023, creating Europe\\'s largest refugee crisis since World War II. Extensive environmental damage caused by the war, widely described as an ecocide, contributed to food crises worldwide.\\n\\nBefore the invasion, Russian troops massed near Ukraine\\'s borders as Russian officials denied any plans to attack. Russian president Vladimir Putin announced a \"special military operation\" to support the Russian-backed breakaway republics of Donetsk and Luhansk, whose paramilitary forces had been fighting Ukraine in the Donbas conflict since 2014. Putin espoused irredentist views challenging Ukraine\\'s right to exist, and falsely claimed that Ukraine was governed by neo-Nazis persecuting the Russian minority. He said his goal was to \"demilitarise and denazify\" Ukraine. Russian air strikes and a ground invasion were launched at a northern front from Belarus towards Kyiv, a southern front from Crimea, and an eastern front from the Donbas and towards Kharkiv. Ukraine enacted martial law, ordered a general mobilisation and severed diplomatic relations with Russia.\\n\\nRussian troops retreated from the northern front by April 2022 after encountering logistical challenges and stiff Ukrainian resistance. On the southern and southeastern fronts, Russia captured Kherson in March and Mariupol in May after a destructive siege. Russia launched a renewed offensive in the Donbas and continued to bomb military and civilian targets far from the front line, including the energy grid through the winter. In late 2022, Ukraine launched successful counteroffensives in the south and east. Soon after, Russia announced the illegal annexation of four partly occupied regions. In November, Ukraine retook parts of Kherson Oblast, including the city of Kherson itself. In June 2023, Ukraine launched another counteroffensive in the southeast, which by the end of the year had petered out with only small amounts of territory retaken.\\n\\nThe invasion was met with widespread international condemnation. The United Nations General Assembly passed a resolution condemning the invasion and demanding a full Russian withdrawal in March 2022. The International Court of Justice ordered Russia to suspend military operations and the Council of Europe expelled Russia. Many countries imposed sanctions on Russia and its ally Belarus, and provided humanitarian and military aid to Ukraine. The Baltic states all declared Russia a terrorist state. Protests occurred around the world, along with mass arrests of anti-war protesters in Russia, which also enacted a law enabling greater media censorship. Over 1,000 companies closed their operations in Russia and Belarus as a result of the invasion. The International Criminal Court (ICC) opened investigations into possible crimes against humanity, war crimes, abduction of children, and genocide. The ICC issued four arrest warrants in that regard: for Putin and Maria Lvova-Belova in March 2023, alleging responsibility for the unlawful deportation of children, as well as for commanders Sergey Kobylash and Viktor Sokolov in 2024, for alleged war crimes.[15]', metadata={'sources': \"{'source': './demo.txt'}\"})]"
      ]
     },
     "execution_count": 13,
     "metadata": {},
     "output_type": "execute_result"
    }
   ],
   "source": [
    "db4.similarity_search(\"Who have started war?\")"
   ]
  }
 ],
 "metadata": {
  "kernelspec": {
   "display_name": "dev-llm",
   "language": "python",
   "name": "python3"
  },
  "language_info": {
   "codemirror_mode": {
    "name": "ipython",
    "version": 3
   },
   "file_extension": ".py",
   "mimetype": "text/x-python",
   "name": "python",
   "nbconvert_exporter": "python",
   "pygments_lexer": "ipython3",
   "version": "3.10.12"
  }
 },
 "nbformat": 4,
 "nbformat_minor": 2
}
