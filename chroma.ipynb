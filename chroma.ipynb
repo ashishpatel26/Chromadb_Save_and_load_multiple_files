{
 "cells": [
  {
   "cell_type": "code",
   "execution_count": 53,
   "metadata": {},
   "outputs": [
    {
     "name": "stdout",
     "output_type": "stream",
     "text": [
      "Requirement already satisfied: langchain_chroma in c:\\users\\ibm26\\anaconda3\\envs\\myllm\\lib\\site-packages (0.1.0)\n",
      "Requirement already satisfied: chromadb<0.5.0,>=0.4.0 in c:\\users\\ibm26\\anaconda3\\envs\\myllm\\lib\\site-packages (from langchain_chroma) (0.4.24)\n",
      "Requirement already satisfied: fastapi<1,>=0.95.2 in c:\\users\\ibm26\\anaconda3\\envs\\myllm\\lib\\site-packages (from langchain_chroma) (0.110.1)\n",
      "Requirement already satisfied: langchain-core<0.2.0,>=0.1.40 in c:\\users\\ibm26\\anaconda3\\envs\\myllm\\lib\\site-packages (from langchain_chroma) (0.1.42)\n",
      "Requirement already satisfied: numpy<2,>=1 in c:\\users\\ibm26\\anaconda3\\envs\\myllm\\lib\\site-packages (from langchain_chroma) (1.26.4)\n",
      "Requirement already satisfied: build>=1.0.3 in c:\\users\\ibm26\\anaconda3\\envs\\myllm\\lib\\site-packages (from chromadb<0.5.0,>=0.4.0->langchain_chroma) (1.2.1)\n",
      "Requirement already satisfied: requests>=2.28 in c:\\users\\ibm26\\anaconda3\\envs\\myllm\\lib\\site-packages (from chromadb<0.5.0,>=0.4.0->langchain_chroma) (2.31.0)\n",
      "Requirement already satisfied: pydantic>=1.9 in c:\\users\\ibm26\\anaconda3\\envs\\myllm\\lib\\site-packages (from chromadb<0.5.0,>=0.4.0->langchain_chroma) (2.6.4)\n",
      "Requirement already satisfied: chroma-hnswlib==0.7.3 in c:\\users\\ibm26\\anaconda3\\envs\\myllm\\lib\\site-packages (from chromadb<0.5.0,>=0.4.0->langchain_chroma) (0.7.3)\n",
      "Requirement already satisfied: uvicorn>=0.18.3 in c:\\users\\ibm26\\anaconda3\\envs\\myllm\\lib\\site-packages (from uvicorn[standard]>=0.18.3->chromadb<0.5.0,>=0.4.0->langchain_chroma) (0.29.0)\n",
      "Requirement already satisfied: posthog>=2.4.0 in c:\\users\\ibm26\\anaconda3\\envs\\myllm\\lib\\site-packages (from chromadb<0.5.0,>=0.4.0->langchain_chroma) (3.5.0)\n",
      "Requirement already satisfied: typing-extensions>=4.5.0 in c:\\users\\ibm26\\anaconda3\\envs\\myllm\\lib\\site-packages (from chromadb<0.5.0,>=0.4.0->langchain_chroma) (4.11.0)\n",
      "Requirement already satisfied: pulsar-client>=3.1.0 in c:\\users\\ibm26\\anaconda3\\envs\\myllm\\lib\\site-packages (from chromadb<0.5.0,>=0.4.0->langchain_chroma) (3.4.0)\n",
      "Requirement already satisfied: onnxruntime>=1.14.1 in c:\\users\\ibm26\\anaconda3\\envs\\myllm\\lib\\site-packages (from chromadb<0.5.0,>=0.4.0->langchain_chroma) (1.17.1)\n",
      "Requirement already satisfied: opentelemetry-api>=1.2.0 in c:\\users\\ibm26\\anaconda3\\envs\\myllm\\lib\\site-packages (from chromadb<0.5.0,>=0.4.0->langchain_chroma) (1.24.0)\n",
      "Requirement already satisfied: opentelemetry-exporter-otlp-proto-grpc>=1.2.0 in c:\\users\\ibm26\\anaconda3\\envs\\myllm\\lib\\site-packages (from chromadb<0.5.0,>=0.4.0->langchain_chroma) (1.24.0)\n",
      "Requirement already satisfied: opentelemetry-instrumentation-fastapi>=0.41b0 in c:\\users\\ibm26\\anaconda3\\envs\\myllm\\lib\\site-packages (from chromadb<0.5.0,>=0.4.0->langchain_chroma) (0.45b0)\n",
      "Requirement already satisfied: opentelemetry-sdk>=1.2.0 in c:\\users\\ibm26\\anaconda3\\envs\\myllm\\lib\\site-packages (from chromadb<0.5.0,>=0.4.0->langchain_chroma) (1.24.0)\n",
      "Requirement already satisfied: tokenizers>=0.13.2 in c:\\users\\ibm26\\anaconda3\\envs\\myllm\\lib\\site-packages (from chromadb<0.5.0,>=0.4.0->langchain_chroma) (0.15.2)\n",
      "Requirement already satisfied: pypika>=0.48.9 in c:\\users\\ibm26\\anaconda3\\envs\\myllm\\lib\\site-packages (from chromadb<0.5.0,>=0.4.0->langchain_chroma) (0.48.9)\n",
      "Requirement already satisfied: tqdm>=4.65.0 in c:\\users\\ibm26\\anaconda3\\envs\\myllm\\lib\\site-packages (from chromadb<0.5.0,>=0.4.0->langchain_chroma) (4.66.2)\n",
      "Requirement already satisfied: overrides>=7.3.1 in c:\\users\\ibm26\\anaconda3\\envs\\myllm\\lib\\site-packages (from chromadb<0.5.0,>=0.4.0->langchain_chroma) (7.7.0)\n",
      "Requirement already satisfied: importlib-resources in c:\\users\\ibm26\\anaconda3\\envs\\myllm\\lib\\site-packages (from chromadb<0.5.0,>=0.4.0->langchain_chroma) (6.4.0)\n",
      "Requirement already satisfied: grpcio>=1.58.0 in c:\\users\\ibm26\\anaconda3\\envs\\myllm\\lib\\site-packages (from chromadb<0.5.0,>=0.4.0->langchain_chroma) (1.62.1)\n",
      "Requirement already satisfied: bcrypt>=4.0.1 in c:\\users\\ibm26\\anaconda3\\envs\\myllm\\lib\\site-packages (from chromadb<0.5.0,>=0.4.0->langchain_chroma) (4.1.2)\n",
      "Requirement already satisfied: typer>=0.9.0 in c:\\users\\ibm26\\anaconda3\\envs\\myllm\\lib\\site-packages (from chromadb<0.5.0,>=0.4.0->langchain_chroma) (0.12.3)\n",
      "Requirement already satisfied: kubernetes>=28.1.0 in c:\\users\\ibm26\\anaconda3\\envs\\myllm\\lib\\site-packages (from chromadb<0.5.0,>=0.4.0->langchain_chroma) (29.0.0)\n",
      "Requirement already satisfied: tenacity>=8.2.3 in c:\\users\\ibm26\\anaconda3\\envs\\myllm\\lib\\site-packages (from chromadb<0.5.0,>=0.4.0->langchain_chroma) (8.2.3)\n",
      "Requirement already satisfied: PyYAML>=6.0.0 in c:\\users\\ibm26\\anaconda3\\envs\\myllm\\lib\\site-packages (from chromadb<0.5.0,>=0.4.0->langchain_chroma) (6.0.1)\n",
      "Requirement already satisfied: mmh3>=4.0.1 in c:\\users\\ibm26\\anaconda3\\envs\\myllm\\lib\\site-packages (from chromadb<0.5.0,>=0.4.0->langchain_chroma) (4.1.0)\n",
      "Requirement already satisfied: orjson>=3.9.12 in c:\\users\\ibm26\\anaconda3\\envs\\myllm\\lib\\site-packages (from chromadb<0.5.0,>=0.4.0->langchain_chroma) (3.10.0)\n",
      "Requirement already satisfied: starlette<0.38.0,>=0.37.2 in c:\\users\\ibm26\\anaconda3\\envs\\myllm\\lib\\site-packages (from fastapi<1,>=0.95.2->langchain_chroma) (0.37.2)\n",
      "Requirement already satisfied: jsonpatch<2.0,>=1.33 in c:\\users\\ibm26\\anaconda3\\envs\\myllm\\lib\\site-packages (from langchain-core<0.2.0,>=0.1.40->langchain_chroma) (1.33)\n",
      "Requirement already satisfied: langsmith<0.2.0,>=0.1.0 in c:\\users\\ibm26\\anaconda3\\envs\\myllm\\lib\\site-packages (from langchain-core<0.2.0,>=0.1.40->langchain_chroma) (0.1.40)\n",
      "Requirement already satisfied: packaging<24.0,>=23.2 in c:\\users\\ibm26\\anaconda3\\envs\\myllm\\lib\\site-packages (from langchain-core<0.2.0,>=0.1.40->langchain_chroma) (23.2)\n",
      "Requirement already satisfied: pyproject_hooks in c:\\users\\ibm26\\anaconda3\\envs\\myllm\\lib\\site-packages (from build>=1.0.3->chromadb<0.5.0,>=0.4.0->langchain_chroma) (1.0.0)\n",
      "Requirement already satisfied: colorama in c:\\users\\ibm26\\anaconda3\\envs\\myllm\\lib\\site-packages (from build>=1.0.3->chromadb<0.5.0,>=0.4.0->langchain_chroma) (0.4.6)\n",
      "Requirement already satisfied: tomli>=1.1.0 in c:\\users\\ibm26\\anaconda3\\envs\\myllm\\lib\\site-packages (from build>=1.0.3->chromadb<0.5.0,>=0.4.0->langchain_chroma) (2.0.1)\n",
      "Requirement already satisfied: jsonpointer>=1.9 in c:\\users\\ibm26\\anaconda3\\envs\\myllm\\lib\\site-packages (from jsonpatch<2.0,>=1.33->langchain-core<0.2.0,>=0.1.40->langchain_chroma) (2.4)\n",
      "Requirement already satisfied: certifi>=14.05.14 in c:\\users\\ibm26\\anaconda3\\envs\\myllm\\lib\\site-packages (from kubernetes>=28.1.0->chromadb<0.5.0,>=0.4.0->langchain_chroma) (2024.2.2)\n",
      "Requirement already satisfied: six>=1.9.0 in c:\\users\\ibm26\\anaconda3\\envs\\myllm\\lib\\site-packages (from kubernetes>=28.1.0->chromadb<0.5.0,>=0.4.0->langchain_chroma) (1.16.0)\n",
      "Requirement already satisfied: python-dateutil>=2.5.3 in c:\\users\\ibm26\\anaconda3\\envs\\myllm\\lib\\site-packages (from kubernetes>=28.1.0->chromadb<0.5.0,>=0.4.0->langchain_chroma) (2.9.0)\n",
      "Requirement already satisfied: google-auth>=1.0.1 in c:\\users\\ibm26\\anaconda3\\envs\\myllm\\lib\\site-packages (from kubernetes>=28.1.0->chromadb<0.5.0,>=0.4.0->langchain_chroma) (2.29.0)\n",
      "Requirement already satisfied: websocket-client!=0.40.0,!=0.41.*,!=0.42.*,>=0.32.0 in c:\\users\\ibm26\\anaconda3\\envs\\myllm\\lib\\site-packages (from kubernetes>=28.1.0->chromadb<0.5.0,>=0.4.0->langchain_chroma) (1.7.0)\n",
      "Requirement already satisfied: requests-oauthlib in c:\\users\\ibm26\\anaconda3\\envs\\myllm\\lib\\site-packages (from kubernetes>=28.1.0->chromadb<0.5.0,>=0.4.0->langchain_chroma) (2.0.0)\n",
      "Requirement already satisfied: oauthlib>=3.2.2 in c:\\users\\ibm26\\anaconda3\\envs\\myllm\\lib\\site-packages (from kubernetes>=28.1.0->chromadb<0.5.0,>=0.4.0->langchain_chroma) (3.2.2)\n",
      "Requirement already satisfied: urllib3>=1.24.2 in c:\\users\\ibm26\\anaconda3\\envs\\myllm\\lib\\site-packages (from kubernetes>=28.1.0->chromadb<0.5.0,>=0.4.0->langchain_chroma) (2.2.1)\n",
      "Requirement already satisfied: coloredlogs in c:\\users\\ibm26\\anaconda3\\envs\\myllm\\lib\\site-packages (from onnxruntime>=1.14.1->chromadb<0.5.0,>=0.4.0->langchain_chroma) (15.0.1)\n",
      "Requirement already satisfied: flatbuffers in c:\\users\\ibm26\\anaconda3\\envs\\myllm\\lib\\site-packages (from onnxruntime>=1.14.1->chromadb<0.5.0,>=0.4.0->langchain_chroma) (24.3.25)\n",
      "Requirement already satisfied: protobuf in c:\\users\\ibm26\\anaconda3\\envs\\myllm\\lib\\site-packages (from onnxruntime>=1.14.1->chromadb<0.5.0,>=0.4.0->langchain_chroma) (4.25.3)\n",
      "Requirement already satisfied: sympy in c:\\users\\ibm26\\anaconda3\\envs\\myllm\\lib\\site-packages (from onnxruntime>=1.14.1->chromadb<0.5.0,>=0.4.0->langchain_chroma) (1.12)\n",
      "Requirement already satisfied: deprecated>=1.2.6 in c:\\users\\ibm26\\anaconda3\\envs\\myllm\\lib\\site-packages (from opentelemetry-api>=1.2.0->chromadb<0.5.0,>=0.4.0->langchain_chroma) (1.2.14)\n",
      "Requirement already satisfied: importlib-metadata<=7.0,>=6.0 in c:\\users\\ibm26\\anaconda3\\envs\\myllm\\lib\\site-packages (from opentelemetry-api>=1.2.0->chromadb<0.5.0,>=0.4.0->langchain_chroma) (7.0.0)\n",
      "Requirement already satisfied: googleapis-common-protos~=1.52 in c:\\users\\ibm26\\anaconda3\\envs\\myllm\\lib\\site-packages (from opentelemetry-exporter-otlp-proto-grpc>=1.2.0->chromadb<0.5.0,>=0.4.0->langchain_chroma) (1.63.0)\n",
      "Requirement already satisfied: opentelemetry-exporter-otlp-proto-common==1.24.0 in c:\\users\\ibm26\\anaconda3\\envs\\myllm\\lib\\site-packages (from opentelemetry-exporter-otlp-proto-grpc>=1.2.0->chromadb<0.5.0,>=0.4.0->langchain_chroma) (1.24.0)\n",
      "Requirement already satisfied: opentelemetry-proto==1.24.0 in c:\\users\\ibm26\\anaconda3\\envs\\myllm\\lib\\site-packages (from opentelemetry-exporter-otlp-proto-grpc>=1.2.0->chromadb<0.5.0,>=0.4.0->langchain_chroma) (1.24.0)\n",
      "Requirement already satisfied: opentelemetry-instrumentation-asgi==0.45b0 in c:\\users\\ibm26\\anaconda3\\envs\\myllm\\lib\\site-packages (from opentelemetry-instrumentation-fastapi>=0.41b0->chromadb<0.5.0,>=0.4.0->langchain_chroma) (0.45b0)\n",
      "Requirement already satisfied: opentelemetry-instrumentation==0.45b0 in c:\\users\\ibm26\\anaconda3\\envs\\myllm\\lib\\site-packages (from opentelemetry-instrumentation-fastapi>=0.41b0->chromadb<0.5.0,>=0.4.0->langchain_chroma) (0.45b0)\n",
      "Requirement already satisfied: opentelemetry-semantic-conventions==0.45b0 in c:\\users\\ibm26\\anaconda3\\envs\\myllm\\lib\\site-packages (from opentelemetry-instrumentation-fastapi>=0.41b0->chromadb<0.5.0,>=0.4.0->langchain_chroma) (0.45b0)\n",
      "Requirement already satisfied: opentelemetry-util-http==0.45b0 in c:\\users\\ibm26\\anaconda3\\envs\\myllm\\lib\\site-packages (from opentelemetry-instrumentation-fastapi>=0.41b0->chromadb<0.5.0,>=0.4.0->langchain_chroma) (0.45b0)\n",
      "Requirement already satisfied: setuptools>=16.0 in c:\\users\\ibm26\\anaconda3\\envs\\myllm\\lib\\site-packages (from opentelemetry-instrumentation==0.45b0->opentelemetry-instrumentation-fastapi>=0.41b0->chromadb<0.5.0,>=0.4.0->langchain_chroma) (68.2.2)\n",
      "Requirement already satisfied: wrapt<2.0.0,>=1.0.0 in c:\\users\\ibm26\\anaconda3\\envs\\myllm\\lib\\site-packages (from opentelemetry-instrumentation==0.45b0->opentelemetry-instrumentation-fastapi>=0.41b0->chromadb<0.5.0,>=0.4.0->langchain_chroma) (1.16.0)\n",
      "Requirement already satisfied: asgiref~=3.0 in c:\\users\\ibm26\\anaconda3\\envs\\myllm\\lib\\site-packages (from opentelemetry-instrumentation-asgi==0.45b0->opentelemetry-instrumentation-fastapi>=0.41b0->chromadb<0.5.0,>=0.4.0->langchain_chroma) (3.8.1)\n",
      "Requirement already satisfied: monotonic>=1.5 in c:\\users\\ibm26\\anaconda3\\envs\\myllm\\lib\\site-packages (from posthog>=2.4.0->chromadb<0.5.0,>=0.4.0->langchain_chroma) (1.6)\n",
      "Requirement already satisfied: backoff>=1.10.0 in c:\\users\\ibm26\\anaconda3\\envs\\myllm\\lib\\site-packages (from posthog>=2.4.0->chromadb<0.5.0,>=0.4.0->langchain_chroma) (2.2.1)\n",
      "Requirement already satisfied: annotated-types>=0.4.0 in c:\\users\\ibm26\\anaconda3\\envs\\myllm\\lib\\site-packages (from pydantic>=1.9->chromadb<0.5.0,>=0.4.0->langchain_chroma) (0.6.0)\n",
      "Requirement already satisfied: pydantic-core==2.16.3 in c:\\users\\ibm26\\anaconda3\\envs\\myllm\\lib\\site-packages (from pydantic>=1.9->chromadb<0.5.0,>=0.4.0->langchain_chroma) (2.16.3)\n",
      "Requirement already satisfied: charset-normalizer<4,>=2 in c:\\users\\ibm26\\anaconda3\\envs\\myllm\\lib\\site-packages (from requests>=2.28->chromadb<0.5.0,>=0.4.0->langchain_chroma) (3.3.2)\n",
      "Requirement already satisfied: idna<4,>=2.5 in c:\\users\\ibm26\\anaconda3\\envs\\myllm\\lib\\site-packages (from requests>=2.28->chromadb<0.5.0,>=0.4.0->langchain_chroma) (3.6)\n",
      "Requirement already satisfied: anyio<5,>=3.4.0 in c:\\users\\ibm26\\anaconda3\\envs\\myllm\\lib\\site-packages (from starlette<0.38.0,>=0.37.2->fastapi<1,>=0.95.2->langchain_chroma) (4.3.0)\n",
      "Requirement already satisfied: huggingface_hub<1.0,>=0.16.4 in c:\\users\\ibm26\\anaconda3\\envs\\myllm\\lib\\site-packages (from tokenizers>=0.13.2->chromadb<0.5.0,>=0.4.0->langchain_chroma) (0.22.2)\n",
      "Requirement already satisfied: click>=8.0.0 in c:\\users\\ibm26\\anaconda3\\envs\\myllm\\lib\\site-packages (from typer>=0.9.0->chromadb<0.5.0,>=0.4.0->langchain_chroma) (8.1.7)\n",
      "Requirement already satisfied: shellingham>=1.3.0 in c:\\users\\ibm26\\anaconda3\\envs\\myllm\\lib\\site-packages (from typer>=0.9.0->chromadb<0.5.0,>=0.4.0->langchain_chroma) (1.5.4)\n",
      "Requirement already satisfied: rich>=10.11.0 in c:\\users\\ibm26\\anaconda3\\envs\\myllm\\lib\\site-packages (from typer>=0.9.0->chromadb<0.5.0,>=0.4.0->langchain_chroma) (13.7.1)\n",
      "Requirement already satisfied: h11>=0.8 in c:\\users\\ibm26\\anaconda3\\envs\\myllm\\lib\\site-packages (from uvicorn>=0.18.3->uvicorn[standard]>=0.18.3->chromadb<0.5.0,>=0.4.0->langchain_chroma) (0.14.0)\n",
      "Requirement already satisfied: httptools>=0.5.0 in c:\\users\\ibm26\\anaconda3\\envs\\myllm\\lib\\site-packages (from uvicorn[standard]>=0.18.3->chromadb<0.5.0,>=0.4.0->langchain_chroma) (0.6.1)\n",
      "Requirement already satisfied: python-dotenv>=0.13 in c:\\users\\ibm26\\anaconda3\\envs\\myllm\\lib\\site-packages (from uvicorn[standard]>=0.18.3->chromadb<0.5.0,>=0.4.0->langchain_chroma) (1.0.1)\n",
      "Requirement already satisfied: watchfiles>=0.13 in c:\\users\\ibm26\\anaconda3\\envs\\myllm\\lib\\site-packages (from uvicorn[standard]>=0.18.3->chromadb<0.5.0,>=0.4.0->langchain_chroma) (0.21.0)\n",
      "Requirement already satisfied: websockets>=10.4 in c:\\users\\ibm26\\anaconda3\\envs\\myllm\\lib\\site-packages (from uvicorn[standard]>=0.18.3->chromadb<0.5.0,>=0.4.0->langchain_chroma) (12.0)\n",
      "Requirement already satisfied: sniffio>=1.1 in c:\\users\\ibm26\\anaconda3\\envs\\myllm\\lib\\site-packages (from anyio<5,>=3.4.0->starlette<0.38.0,>=0.37.2->fastapi<1,>=0.95.2->langchain_chroma) (1.3.1)\n",
      "Requirement already satisfied: exceptiongroup>=1.0.2 in c:\\users\\ibm26\\anaconda3\\envs\\myllm\\lib\\site-packages (from anyio<5,>=3.4.0->starlette<0.38.0,>=0.37.2->fastapi<1,>=0.95.2->langchain_chroma) (1.2.0)\n",
      "Requirement already satisfied: cachetools<6.0,>=2.0.0 in c:\\users\\ibm26\\anaconda3\\envs\\myllm\\lib\\site-packages (from google-auth>=1.0.1->kubernetes>=28.1.0->chromadb<0.5.0,>=0.4.0->langchain_chroma) (5.3.3)\n",
      "Requirement already satisfied: pyasn1-modules>=0.2.1 in c:\\users\\ibm26\\anaconda3\\envs\\myllm\\lib\\site-packages (from google-auth>=1.0.1->kubernetes>=28.1.0->chromadb<0.5.0,>=0.4.0->langchain_chroma) (0.4.0)\n",
      "Requirement already satisfied: rsa<5,>=3.1.4 in c:\\users\\ibm26\\anaconda3\\envs\\myllm\\lib\\site-packages (from google-auth>=1.0.1->kubernetes>=28.1.0->chromadb<0.5.0,>=0.4.0->langchain_chroma) (4.9)\n",
      "Requirement already satisfied: filelock in c:\\users\\ibm26\\anaconda3\\envs\\myllm\\lib\\site-packages (from huggingface_hub<1.0,>=0.16.4->tokenizers>=0.13.2->chromadb<0.5.0,>=0.4.0->langchain_chroma) (3.13.4)\n",
      "Requirement already satisfied: fsspec>=2023.5.0 in c:\\users\\ibm26\\anaconda3\\envs\\myllm\\lib\\site-packages (from huggingface_hub<1.0,>=0.16.4->tokenizers>=0.13.2->chromadb<0.5.0,>=0.4.0->langchain_chroma) (2024.3.1)\n",
      "Requirement already satisfied: zipp>=0.5 in c:\\users\\ibm26\\anaconda3\\envs\\myllm\\lib\\site-packages (from importlib-metadata<=7.0,>=6.0->opentelemetry-api>=1.2.0->chromadb<0.5.0,>=0.4.0->langchain_chroma) (3.17.0)\n",
      "Requirement already satisfied: markdown-it-py>=2.2.0 in c:\\users\\ibm26\\anaconda3\\envs\\myllm\\lib\\site-packages (from rich>=10.11.0->typer>=0.9.0->chromadb<0.5.0,>=0.4.0->langchain_chroma) (3.0.0)\n",
      "Requirement already satisfied: pygments<3.0.0,>=2.13.0 in c:\\users\\ibm26\\anaconda3\\envs\\myllm\\lib\\site-packages (from rich>=10.11.0->typer>=0.9.0->chromadb<0.5.0,>=0.4.0->langchain_chroma) (2.17.2)\n",
      "Requirement already satisfied: humanfriendly>=9.1 in c:\\users\\ibm26\\anaconda3\\envs\\myllm\\lib\\site-packages (from coloredlogs->onnxruntime>=1.14.1->chromadb<0.5.0,>=0.4.0->langchain_chroma) (10.0)\n",
      "Requirement already satisfied: mpmath>=0.19 in c:\\users\\ibm26\\anaconda3\\envs\\myllm\\lib\\site-packages (from sympy->onnxruntime>=1.14.1->chromadb<0.5.0,>=0.4.0->langchain_chroma) (1.3.0)\n",
      "Requirement already satisfied: pyreadline3 in c:\\users\\ibm26\\anaconda3\\envs\\myllm\\lib\\site-packages (from humanfriendly>=9.1->coloredlogs->onnxruntime>=1.14.1->chromadb<0.5.0,>=0.4.0->langchain_chroma) (3.4.1)\n",
      "Requirement already satisfied: mdurl~=0.1 in c:\\users\\ibm26\\anaconda3\\envs\\myllm\\lib\\site-packages (from markdown-it-py>=2.2.0->rich>=10.11.0->typer>=0.9.0->chromadb<0.5.0,>=0.4.0->langchain_chroma) (0.1.2)\n",
      "Requirement already satisfied: pyasn1<0.7.0,>=0.4.6 in c:\\users\\ibm26\\anaconda3\\envs\\myllm\\lib\\site-packages (from pyasn1-modules>=0.2.1->google-auth>=1.0.1->kubernetes>=28.1.0->chromadb<0.5.0,>=0.4.0->langchain_chroma) (0.6.0)\n"
     ]
    }
   ],
   "source": [
    "# !pip install chromadb\n",
    "!pip install langchain_chroma -U"
   ]
  },
  {
   "cell_type": "code",
   "execution_count": 66,
   "metadata": {},
   "outputs": [],
   "source": [
    "import chromadb\n",
    "from chromadb.config import Settings\n",
    "from langchain_community.document_loaders import TextLoader\n",
    "from langchain.text_splitter import RecursiveCharacterTextSplitter\n",
    "from langchain_community.embeddings import HuggingFaceEmbeddings\n",
    "from langchain_chroma import Chroma"
   ]
  },
  {
   "cell_type": "code",
   "execution_count": 58,
   "metadata": {},
   "outputs": [],
   "source": [
    "doc = TextLoader(\"./demo.txt\").load()\n",
    "documents = RecursiveCharacterTextSplitter(chunk_size = 1000, chunk_overlap=200).split_documents(doc)\n",
    "chroma_client = chromadb.Client(Settings(persist_directory=\"db/\"))\n",
    "embeddings = HuggingFaceEmbeddings(model_name=\"all-MiniLM-L6-v2\")"
   ]
  },
  {
   "cell_type": "code",
   "execution_count": 59,
   "metadata": {},
   "outputs": [],
   "source": [
    "collection = chroma_client.create_collection(name=\"techspec\")"
   ]
  },
  {
   "cell_type": "code",
   "execution_count": 60,
   "metadata": {},
   "outputs": [
    {
     "data": {
      "text/plain": [
       "{'source': './demo.txt'}"
      ]
     },
     "execution_count": 60,
     "metadata": {},
     "output_type": "execute_result"
    }
   ],
   "source": [
    "doc[0].metadata"
   ]
  },
  {
   "cell_type": "code",
   "execution_count": 61,
   "metadata": {},
   "outputs": [],
   "source": [
    "\n",
    "collection.add(\n",
    "    documents = [doc[0].page_content],\n",
    "    metadatas=[{\"sources\": str(doc[0].metadata)}],\n",
    "    ids = [\"id1\"]\n",
    ")\n",
    "persist_directory = 'chroma_storage3'\n",
    "# tell LangChain to use our client and collection name\n",
    "db4 = Chroma(\n",
    "    persist_directory = persist_directory,\n",
    "    client=chroma_client,\n",
    "    collection_name=collection.name,\n",
    "    embedding_function=embeddings,\n",
    ")"
   ]
  },
  {
   "cell_type": "code",
   "execution_count": 62,
   "metadata": {},
   "outputs": [
    {
     "data": {
      "text/plain": [
       "'chroma_storage3'"
      ]
     },
     "execution_count": 62,
     "metadata": {},
     "output_type": "execute_result"
    }
   ],
   "source": [
    "db4._persist_directory\n"
   ]
  },
  {
   "cell_type": "code",
   "execution_count": 32,
   "metadata": {},
   "outputs": [
    {
     "data": {
      "text/plain": [
       "'c:\\\\Users\\\\ibm26\\\\Downloads\\\\lmstudio'"
      ]
     },
     "execution_count": 32,
     "metadata": {},
     "output_type": "execute_result"
    }
   ],
   "source": [
    "import os\n",
    "os.getcwd()"
   ]
  },
  {
   "cell_type": "code",
   "execution_count": 63,
   "metadata": {},
   "outputs": [],
   "source": [
    "vector_db = Chroma(persist_directory=\"./chroma_storage3\", embedding_function=embeddings)"
   ]
  },
  {
   "cell_type": "code",
   "execution_count": 64,
   "metadata": {},
   "outputs": [
    {
     "data": {
      "text/plain": [
       "[]"
      ]
     },
     "execution_count": 64,
     "metadata": {},
     "output_type": "execute_result"
    }
   ],
   "source": [
    "vector_db.similarity_search(\"who is doing war?\")"
   ]
  },
  {
   "cell_type": "code",
   "execution_count": 65,
   "metadata": {},
   "outputs": [
    {
     "name": "stderr",
     "output_type": "stream",
     "text": [
      "Number of requested results 4 is greater than number of elements in index 1, updating n_results = 1\n"
     ]
    },
    {
     "data": {
      "text/plain": [
       "[Document(page_content='On 24 February 2022, Russia invaded Ukraine in an escalation of the Russo-Ukrainian War that started in 2014. The invasion became the largest attack on a European country since World War II.[12][13][14] It is estimated to have caused tens of thousands of Ukrainian civilian casualties and hundreds of thousands of military casualties. By June 2022, Russian troops occupied about 20% of Ukrainian territory. From a population of 41 million in January 2022, about 8 million Ukrainians had been internally displaced and more than 8.2 million had fled the country by April 2023, creating Europe\\'s largest refugee crisis since World War II. Extensive environmental damage caused by the war, widely described as an ecocide, contributed to food crises worldwide.\\n\\nBefore the invasion, Russian troops massed near Ukraine\\'s borders as Russian officials denied any plans to attack. Russian president Vladimir Putin announced a \"special military operation\" to support the Russian-backed breakaway republics of Donetsk and Luhansk, whose paramilitary forces had been fighting Ukraine in the Donbas conflict since 2014. Putin espoused irredentist views challenging Ukraine\\'s right to exist, and falsely claimed that Ukraine was governed by neo-Nazis persecuting the Russian minority. He said his goal was to \"demilitarise and denazify\" Ukraine. Russian air strikes and a ground invasion were launched at a northern front from Belarus towards Kyiv, a southern front from Crimea, and an eastern front from the Donbas and towards Kharkiv. Ukraine enacted martial law, ordered a general mobilisation and severed diplomatic relations with Russia.\\n\\nRussian troops retreated from the northern front by April 2022 after encountering logistical challenges and stiff Ukrainian resistance. On the southern and southeastern fronts, Russia captured Kherson in March and Mariupol in May after a destructive siege. Russia launched a renewed offensive in the Donbas and continued to bomb military and civilian targets far from the front line, including the energy grid through the winter. In late 2022, Ukraine launched successful counteroffensives in the south and east. Soon after, Russia announced the illegal annexation of four partly occupied regions. In November, Ukraine retook parts of Kherson Oblast, including the city of Kherson itself. In June 2023, Ukraine launched another counteroffensive in the southeast, which by the end of the year had petered out with only small amounts of territory retaken.\\n\\nThe invasion was met with widespread international condemnation. The United Nations General Assembly passed a resolution condemning the invasion and demanding a full Russian withdrawal in March 2022. The International Court of Justice ordered Russia to suspend military operations and the Council of Europe expelled Russia. Many countries imposed sanctions on Russia and its ally Belarus, and provided humanitarian and military aid to Ukraine. The Baltic states all declared Russia a terrorist state. Protests occurred around the world, along with mass arrests of anti-war protesters in Russia, which also enacted a law enabling greater media censorship. Over 1,000 companies closed their operations in Russia and Belarus as a result of the invasion. The International Criminal Court (ICC) opened investigations into possible crimes against humanity, war crimes, abduction of children, and genocide. The ICC issued four arrest warrants in that regard: for Putin and Maria Lvova-Belova in March 2023, alleging responsibility for the unlawful deportation of children, as well as for commanders Sergey Kobylash and Viktor Sokolov in 2024, for alleged war crimes.[15]', metadata={'sources': \"{'source': './demo.txt'}\"})]"
      ]
     },
     "execution_count": 65,
     "metadata": {},
     "output_type": "execute_result"
    }
   ],
   "source": [
    "db4.similarity_search(\"who is doing war?\")"
   ]
  },
  {
   "cell_type": "code",
   "execution_count": 29,
   "metadata": {},
   "outputs": [
    {
     "data": {
      "text/plain": [
       "'chroma_storage'"
      ]
     },
     "execution_count": 29,
     "metadata": {},
     "output_type": "execute_result"
    }
   ],
   "source": [
    "db4._persist_directory"
   ]
  },
  {
   "cell_type": "code",
   "execution_count": 39,
   "metadata": {},
   "outputs": [],
   "source": [
    "db4.delete_collection()"
   ]
  },
  {
   "cell_type": "code",
   "execution_count": 92,
   "metadata": {},
   "outputs": [],
   "source": [
    "import os"
   ]
  },
  {
   "cell_type": "code",
   "execution_count": 88,
   "metadata": {},
   "outputs": [],
   "source": [
    "import glob\n",
    "files = glob.glob(\"*.txt\")"
   ]
  },
  {
   "cell_type": "code",
   "execution_count": 100,
   "metadata": {},
   "outputs": [
    {
     "name": "stdout",
     "output_type": "stream",
     "text": [
      "[Document(page_content=\"On 24 February 2022, Russia invaded Ukraine in an escalation of the Russo-Ukrainian War that started in 2014. The invasion became the largest attack on a European country since World War II.[12][13][14] It is estimated to have caused tens of thousands of Ukrainian civilian casualties and hundreds of thousands of military casualties. By June 2022, Russian troops occupied about 20% of Ukrainian territory. From a population of 41 million in January 2022, about 8 million Ukrainians had been internally displaced and more than 8.2 million had fled the country by April 2023, creating Europe's largest refugee crisis since World War II. Extensive environmental damage caused by the war, widely described as an ecocide, contributed to food crises worldwide.\", metadata={'source': 'C:\\\\Users\\\\ibm26\\\\Downloads\\\\lmstudio\\\\demo.txt'})]\n",
      "[Document(page_content='Before the invasion, Russian troops massed near Ukraine\\'s borders as Russian officials denied any plans to attack. Russian president Vladimir Putin announced a \"special military operation\" to support the Russian-backed breakaway republics of Donetsk and Luhansk, whose paramilitary forces had been fighting Ukraine in the Donbas conflict since 2014. Putin espoused irredentist views challenging Ukraine\\'s right to exist, and falsely claimed that Ukraine was governed by neo-Nazis persecuting the Russian minority. He said his goal was to \"demilitarise and denazify\" Ukraine. Russian air strikes and a ground invasion were launched at a northern front from Belarus towards Kyiv, a southern front from Crimea, and an eastern front from the Donbas and towards Kharkiv. Ukraine enacted martial law, ordered a general mobilisation and severed diplomatic relations with Russia.', metadata={'source': 'C:\\\\Users\\\\ibm26\\\\Downloads\\\\lmstudio\\\\demo2.txt'})]\n",
      "[Document(page_content='Russian troops retreated from the northern front by April 2022 after encountering logistical challenges and stiff Ukrainian resistance. On the southern and southeastern fronts, Russia captured Kherson in March and Mariupol in May after a destructive siege. Russia launched a renewed offensive in the Donbas and continued to bomb military and civilian targets far from the front line, including the energy grid through the winter. In late 2022, Ukraine launched successful counteroffensives in the south and east. Soon after, Russia announced the illegal annexation of four partly occupied regions. In November, Ukraine retook parts of Kherson Oblast, including the city of Kherson itself. In June 2023, Ukraine launched another counteroffensive in the southeast, which by the end of the year had petered out with only small amounts of territory retaken.', metadata={'source': 'C:\\\\Users\\\\ibm26\\\\Downloads\\\\lmstudio\\\\demo3.txt'})]\n",
      "[Document(page_content='The invasion was met with widespread international condemnation. The United Nations General Assembly passed a resolution condemning the invasion and demanding a full Russian withdrawal in March 2022. The International Court of Justice ordered Russia to suspend military operations and the Council of Europe expelled Russia. Many countries imposed sanctions on Russia and its ally Belarus, and provided humanitarian and military aid to Ukraine. The Baltic states all declared Russia a terrorist state. Protests occurred around the world, along with mass arrests of anti-war protesters in Russia, which also enacted a law enabling greater media censorship. Over 1,000 companies closed their operations in Russia and Belarus as a result of the invasion. The International Criminal Court (ICC) opened investigations into possible crimes against humanity, war crimes, abduction of children, and genocide. The ICC issued four arrest warrants in that regard: for Putin and Maria Lvova-Belova in March 2023,', metadata={'source': 'C:\\\\Users\\\\ibm26\\\\Downloads\\\\lmstudio\\\\demo4.txt'}), Document(page_content='into possible crimes against humanity, war crimes, abduction of children, and genocide. The ICC issued four arrest warrants in that regard: for Putin and Maria Lvova-Belova in March 2023, alleging responsibility for the unlawful deportation of children, as well as for commanders Sergey Kobylash and Viktor Sokolov in 2024, for alleged war crimes.[15]', metadata={'source': 'C:\\\\Users\\\\ibm26\\\\Downloads\\\\lmstudio\\\\demo4.txt'})]\n"
     ]
    }
   ],
   "source": [
    "import os\n",
    "\n",
    "for idx, file in enumerate(files):\n",
    "    filepath = os.path.join(f'C:\\\\Users\\\\ibm26\\\\Downloads\\\\lmstudio\\\\', file)\n",
    "    loader_doc = TextLoader(filepath).load()\n",
    "    split_doc = RecursiveCharacterTextSplitter(chunk_size = 1000, chunk_overlap=200).split_documents(loader_doc)\n"
   ]
  },
  {
   "cell_type": "code",
   "execution_count": 119,
   "metadata": {},
   "outputs": [
    {
     "name": "stderr",
     "output_type": "stream",
     "text": [
      "Insert of existing embedding ID: id_1\n",
      "Add of existing embedding ID: id_1\n"
     ]
    },
    {
     "name": "stdout",
     "output_type": "stream",
     "text": [
      "Added documents from ./demo.txt to ChromaDB.\n",
      "Added documents from ./demo3.txt to ChromaDB.\n",
      "All documents have been added and Chroma Vector Database is ready for use.\n"
     ]
    }
   ],
   "source": [
    "# !pip install chromadb\n",
    "# !pip install langchain_chroma -U\n",
    "\n",
    "import os\n",
    "import chromadb\n",
    "from langchain_community.document_loaders import TextLoader\n",
    "from langchain.text_splitter import RecursiveCharacterTextSplitter\n",
    "from langchain_community.embeddings import HuggingFaceEmbeddings\n",
    "from langchain_chroma import Chroma\n",
    "\n",
    "# List of document file paths\n",
    "document_files = [\"./demo.txt\", \"./domo2.txt\", \"./demo3.txt\"]  # Add paths to your documents\n",
    "\n",
    "# Initialize ChromaDB Client and collection\n",
    "chroma_client = chromadb.PersistentClient()\n",
    "embeddings = HuggingFaceEmbeddings(model_name=\"all-MiniLM-L6-v2\")\n",
    "collection = chroma_client.create_collection(name=\"techspecnew3\")\n",
    "\n",
    "# Initialize Text Splitter\n",
    "splitter = RecursiveCharacterTextSplitter(chunk_size=1000, chunk_overlap=200)\n",
    "\n",
    "# Process each document\n",
    "for doc_path in document_files:\n",
    "    if os.path.exists(doc_path):\n",
    "        doc = TextLoader(doc_path).load()\n",
    "        documents = splitter.split_documents(doc)\n",
    "\n",
    "        # Prepare data for adding to ChromaDB\n",
    "        pages_content = [doc.page_content for doc in documents]\n",
    "        metadatas = [{\"source\": str(doc.metadata)} for doc in documents]\n",
    "        ids = [f\"id_{i+1}\" for i in range(len(documents))]\n",
    "\n",
    "        # Add documents to the ChromaDB collection\n",
    "        collection.add(documents=pages_content, metadatas=metadatas, ids=ids)\n",
    "\n",
    "        print(f\"Added documents from {doc_path} to ChromaDB.\")\n",
    "\n",
    "# Initialize and configure Chroma\n",
    "persist_directory = 'chroma_storage_new'\n",
    "db4 = Chroma(\n",
    "    persist_directory=persist_directory,\n",
    "    client=chroma_client,\n",
    "    collection_name=collection.name,\n",
    "    embedding_function=embeddings,\n",
    ")\n",
    "\n",
    "print(\"All documents have been added and Chroma Vector Database is ready for use.\")"
   ]
  },
  {
   "cell_type": "code",
   "execution_count": 117,
   "metadata": {},
   "outputs": [],
   "source": [
    "db4.delete_collection()"
   ]
  },
  {
   "cell_type": "code",
   "execution_count": 120,
   "metadata": {},
   "outputs": [
    {
     "name": "stdout",
     "output_type": "stream",
     "text": [
      "Chroma has been configured to load data from the specified persist directory.\n"
     ]
    }
   ],
   "source": [
    "import chromadb\n",
    "from langchain_chroma import Chroma\n",
    "from langchain_community.embeddings import HuggingFaceEmbeddings\n",
    "\n",
    "# Define the directory where the data was persisted\n",
    "persist_directory = 'chroma_storage'\n",
    "\n",
    "# Initialize ChromaDB Client\n",
    "chroma_client = chromadb.PersistentClient()\n",
    "\n",
    "# Assuming you know the collection name, or it's stored/specified somewhere\n",
    "collection_name = \"techspecnew1\"\n",
    "\n",
    "# Setup embedding function, same as used during saving the data\n",
    "embeddings = HuggingFaceEmbeddings(model_name=\"all-MiniLM-L6-v2\")\n",
    "\n",
    "# Initialize and configure Chroma to load the existing data\n",
    "db4 = Chroma(\n",
    "    persist_directory=persist_directory,\n",
    "    client=chroma_client,\n",
    "    collection_name=collection_name,\n",
    "    embedding_function=embeddings,\n",
    ")\n",
    "\n",
    "print(\"Chroma has been configured to load data from the specified persist directory.\")\n"
   ]
  },
  {
   "cell_type": "code",
   "execution_count": 121,
   "metadata": {},
   "outputs": [
    {
     "name": "stderr",
     "output_type": "stream",
     "text": [
      "Number of requested results 4 is greater than number of elements in index 1, updating n_results = 1\n"
     ]
    },
    {
     "data": {
      "text/plain": [
       "[Document(page_content=\"On 24 February 2022, Russia invaded Ukraine in an escalation of the Russo-Ukrainian War that started in 2014. The invasion became the largest attack on a European country since World War II.[12][13][14] It is estimated to have caused tens of thousands of Ukrainian civilian casualties and hundreds of thousands of military casualties. By June 2022, Russian troops occupied about 20% of Ukrainian territory. From a population of 41 million in January 2022, about 8 million Ukrainians had been internally displaced and more than 8.2 million had fled the country by April 2023, creating Europe's largest refugee crisis since World War II. Extensive environmental damage caused by the war, widely described as an ecocide, contributed to food crises worldwide.\", metadata={'source': \"{'source': './demo.txt'}\"})]"
      ]
     },
     "execution_count": 121,
     "metadata": {},
     "output_type": "execute_result"
    }
   ],
   "source": [
    "db4.similarity_search(\"Who have started war?\")"
   ]
  },
  {
   "cell_type": "code",
   "execution_count": null,
   "metadata": {},
   "outputs": [],
   "source": []
  }
 ],
 "metadata": {
  "kernelspec": {
   "display_name": "dev-llm",
   "language": "python",
   "name": "python3"
  },
  "language_info": {
   "codemirror_mode": {
    "name": "ipython",
    "version": 3
   },
   "file_extension": ".py",
   "mimetype": "text/x-python",
   "name": "python",
   "nbconvert_exporter": "python",
   "pygments_lexer": "ipython3",
   "version": "3.10.12"
  }
 },
 "nbformat": 4,
 "nbformat_minor": 2
}
